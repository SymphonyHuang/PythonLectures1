{
 "cells": [
  {
   "cell_type": "markdown",
   "metadata": {},
   "source": [
    "# Tutorial/Assignment 2:"
   ]
  },
  {
   "cell_type": "code",
   "execution_count": null,
   "metadata": {},
   "outputs": [],
   "source": [
    "# Load the helper functions\n",
    "from plotting import *"
   ]
  },
  {
   "cell_type": "markdown",
   "metadata": {},
   "source": [
    "## Load the scipy and numpy packages"
   ]
  },
  {
   "cell_type": "code",
   "execution_count": null,
   "metadata": {},
   "outputs": [],
   "source": []
  },
  {
   "cell_type": "markdown",
   "metadata": {},
   "source": [
    "# Special functions\n",
    "\n",
    "Calculate the values of the Chebyshev polynomial of the first kind at 51 points between -1 and 1. Try different values for the `n` parameter.\n",
    "\n",
    "https://docs.scipy.org/doc/scipy/reference/special.html#module-scipy.special\n",
    "\n",
    "Note that there are two definitions for the Chebyshev polynomial of the first kind. One of them returns an array, the other returns a polynomial object. You will need the one that returns the array."
   ]
  },
  {
   "cell_type": "code",
   "execution_count": null,
   "metadata": {},
   "outputs": [],
   "source": []
  },
  {
   "cell_type": "code",
   "execution_count": null,
   "metadata": {},
   "outputs": [],
   "source": [
    "# If you used x and y as the variable names in the cell above \n",
    "# you can use the following plot command to display the results.\n",
    "plot(x, y)"
   ]
  },
  {
   "cell_type": "markdown",
   "metadata": {},
   "source": [
    "Write a loop that plots the five lowest order Chebyshev polynomials of the first kind using the plot command from above."
   ]
  },
  {
   "cell_type": "code",
   "execution_count": null,
   "metadata": {},
   "outputs": [],
   "source": []
  },
  {
   "cell_type": "markdown",
   "metadata": {},
   "source": [
    "**Challenge**\n",
    "\n",
    "Choose five special functions that take only one input parameter (and that exist over the same range) and plot them using a single for loop. You will need to use a list or a tuple to store the functions."
   ]
  },
  {
   "cell_type": "code",
   "execution_count": null,
   "metadata": {},
   "outputs": [],
   "source": []
  },
  {
   "cell_type": "markdown",
   "metadata": {},
   "source": [
    "## Interpolation of discrete data\n",
    "\n",
    "Load the data from the `interpolation_data.csv` file. The data consists of two columns and does not have a header line."
   ]
  },
  {
   "cell_type": "code",
   "execution_count": null,
   "metadata": {},
   "outputs": [],
   "source": []
  },
  {
   "cell_type": "markdown",
   "metadata": {},
   "source": [
    "Plot the data"
   ]
  },
  {
   "cell_type": "code",
   "execution_count": null,
   "metadata": {},
   "outputs": [],
   "source": []
  },
  {
   "cell_type": "markdown",
   "metadata": {},
   "source": [
    "Create a cubic spline interpolation, evaluate it at 50 points, and plot this on top of the data. \n",
    "\n",
    "https://docs.scipy.org/doc/scipy/reference/generated/scipy.interpolate.interp1d.html#scipy.interpolate.interp1d\n",
    "\n",
    "You will need to use both the `plot(x, y)` and `plot_interp(x, y)` helper functions."
   ]
  },
  {
   "cell_type": "code",
   "execution_count": null,
   "metadata": {},
   "outputs": [],
   "source": []
  },
  {
   "cell_type": "markdown",
   "metadata": {},
   "source": [
    "## Root finding\n",
    "\n",
    "Find the first root of the function (near `x=3`) with the help of the Newton-Rhapson method.\n",
    "\n",
    "https://docs.scipy.org/doc/scipy/reference/generated/scipy.optimize.newton.html#scipy.optimize.newton"
   ]
  },
  {
   "cell_type": "code",
   "execution_count": null,
   "metadata": {},
   "outputs": [],
   "source": []
  },
  {
   "cell_type": "markdown",
   "metadata": {},
   "source": [
    "Do the same thing with the `root` function. You will need to change the interpolation function so that it does not throw an error when the root finder tries points outside the domain of the function. Look for the `bounds_error` and `fill_value` parameters in https://docs.scipy.org/doc/scipy/reference/generated/scipy.interpolate.interp1d.html#scipy.interpolate.interp1d"
   ]
  },
  {
   "cell_type": "code",
   "execution_count": null,
   "metadata": {},
   "outputs": [],
   "source": []
  },
  {
   "cell_type": "markdown",
   "metadata": {},
   "source": [
    "**Challenge**\n",
    "\n",
    "Use a for loop to try different interpolation schemes to see what values you get from the `newton` routine. The interpolation types are found at:\n",
    "\n",
    "https://docs.scipy.org/doc/scipy/reference/generated/scipy.interpolate.interp1d.html#scipy.interpolate.interp1d\n",
    "\n",
    "Use the `plot_root(x, y, root)` function from the plotting helper module to display each plot in the for loop. Note how some of the roots will fail to converge properly. Why is this? Think of how the Newton-Rhapson method works.\n",
    "\n",
    "https://en.wikipedia.org/wiki/Newton%27s_method"
   ]
  },
  {
   "cell_type": "code",
   "execution_count": null,
   "metadata": {},
   "outputs": [],
   "source": []
  },
  {
   "cell_type": "markdown",
   "metadata": {},
   "source": [
    "Find the points at which these two functions intersect:\n",
    "\n",
    "$$y = x^2 + \\cos(x)$$\n",
    "$$y = x - \\tan^{-1}(x) + 1.2$$\n",
    "\n",
    "You can solve this with the `root` function, the `newton` function, or with fsolve:\n",
    "\n",
    "https://docs.scipy.org/doc/scipy/reference/generated/scipy.optimize.fsolve.html?highlight=fsolve#scipy.optimize.fsolve"
   ]
  },
  {
   "cell_type": "markdown",
   "metadata": {},
   "source": [
    "First plot the two functions between $x=-1$ and $x=1$."
   ]
  },
  {
   "cell_type": "code",
   "execution_count": null,
   "metadata": {},
   "outputs": [],
   "source": []
  },
  {
   "cell_type": "code",
   "execution_count": null,
   "metadata": {},
   "outputs": [],
   "source": [
    "# Note how there are two intersections so we need to run the root finder \n",
    "# with different starting values to find the two points"
   ]
  },
  {
   "cell_type": "markdown",
   "metadata": {},
   "source": [
    "Now find the two intersection points."
   ]
  },
  {
   "cell_type": "code",
   "execution_count": null,
   "metadata": {},
   "outputs": [],
   "source": []
  },
  {
   "cell_type": "markdown",
   "metadata": {},
   "source": [
    "## Minimization\n",
    "\n",
    "Use the SciPy minimize function: https://docs.scipy.org/doc/scipy/reference/generated/scipy.optimize.minimize.html#scipy.optimize.minimize\n",
    "\n",
    "to find the minimum of\n",
    "\n",
    "$$f(x) = -2\\exp(-(x - 3)^2) - 3\\exp(-(x + 2)^2)$$\n",
    "\n",
    "You might want to use a lambda function in the minimizer."
   ]
  },
  {
   "cell_type": "markdown",
   "metadata": {},
   "source": [
    "First plot the function between -5 and 5."
   ]
  },
  {
   "cell_type": "code",
   "execution_count": null,
   "metadata": {},
   "outputs": [],
   "source": []
  },
  {
   "cell_type": "markdown",
   "metadata": {},
   "source": [
    "Find the minimum."
   ]
  },
  {
   "cell_type": "code",
   "execution_count": null,
   "metadata": {},
   "outputs": [],
   "source": []
  },
  {
   "cell_type": "markdown",
   "metadata": {},
   "source": [
    "Use a different starting point to find the other local minimum."
   ]
  },
  {
   "cell_type": "code",
   "execution_count": null,
   "metadata": {},
   "outputs": [],
   "source": []
  },
  {
   "cell_type": "markdown",
   "metadata": {},
   "source": [
    "## Integration\n",
    "\n",
    "Integrate the normal distribution with mean 0 and standard deviation 1 from $-\\infty$ to 3."
   ]
  },
  {
   "cell_type": "code",
   "execution_count": null,
   "metadata": {},
   "outputs": [],
   "source": []
  },
  {
   "cell_type": "markdown",
   "metadata": {},
   "source": [
    "Write a function that takes a three parameters and returns the value of the normal distribution with mean mu and standard deviation sigma.\n",
    "\n",
    "`norm(x, mu, sigma)`"
   ]
  },
  {
   "cell_type": "code",
   "execution_count": null,
   "metadata": {},
   "outputs": [],
   "source": []
  },
  {
   "cell_type": "markdown",
   "metadata": {},
   "source": [
    "Integrate this function between -3 and 3. Use the `args` keyword to pass the a mean and standard deviation of your choice. A good test would be to set mu=0 and sigma=1 to get a known value for the integral using the error function."
   ]
  },
  {
   "cell_type": "code",
   "execution_count": null,
   "metadata": {},
   "outputs": [],
   "source": []
  },
  {
   "cell_type": "markdown",
   "metadata": {},
   "source": [
    "Try different values for $\\mu$ and $\\sigma$."
   ]
  },
  {
   "cell_type": "code",
   "execution_count": null,
   "metadata": {},
   "outputs": [],
   "source": []
  },
  {
   "cell_type": "markdown",
   "metadata": {},
   "source": [
    "## Solving an ODE\n",
    "\n",
    "Plot following equation using the IVP solver:\n",
    "\n",
    "$$f'(x) + y = x$$\n",
    "\n",
    "$$f(0) = 1$$\n",
    "\n",
    "We want to integrate up to $x=3$.\n",
    "\n",
    "https://docs.scipy.org/doc/scipy/reference/generated/scipy.integrate.solve_ivp.html#scipy.integrate.solve_ivp"
   ]
  },
  {
   "cell_type": "code",
   "execution_count": null,
   "metadata": {},
   "outputs": [],
   "source": []
  },
  {
   "cell_type": "markdown",
   "metadata": {},
   "source": [
    "## Solving a second order ODE\n",
    "\n",
    "Plot the following equation from $x=-1$ to $x=10$ using the IVP solver:\n",
    "\n",
    "$$y''+y'+4y=0$$\n",
    "\n",
    "$$y(-1) = 1$$\n",
    "$$y'(-1) = -1$$"
   ]
  },
  {
   "cell_type": "code",
   "execution_count": null,
   "metadata": {},
   "outputs": [],
   "source": []
  },
  {
   "cell_type": "markdown",
   "metadata": {},
   "source": [
    "Change the number of t_eval points to a small number. Does this change the accuracy of the results? Why or why not?"
   ]
  },
  {
   "cell_type": "code",
   "execution_count": null,
   "metadata": {},
   "outputs": [],
   "source": []
  },
  {
   "cell_type": "code",
   "execution_count": null,
   "metadata": {},
   "outputs": [],
   "source": [
    "# The integration is just as accurate as before, but the plot looks bad. \n",
    "# t_eval is just the set of points at which the results are evaluated, and does not\n",
    "# affect the numerical integration."
   ]
  }
 ],
 "metadata": {
  "kernelspec": {
   "display_name": "Python 3",
   "language": "python",
   "name": "python3"
  },
  "language_info": {
   "codemirror_mode": {
    "name": "ipython",
    "version": 3
   },
   "file_extension": ".py",
   "mimetype": "text/x-python",
   "name": "python",
   "nbconvert_exporter": "python",
   "pygments_lexer": "ipython3",
   "version": "3.6.7"
  }
 },
 "nbformat": 4,
 "nbformat_minor": 2
}
