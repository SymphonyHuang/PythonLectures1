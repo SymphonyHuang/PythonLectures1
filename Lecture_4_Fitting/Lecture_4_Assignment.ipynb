{
 "cells": [
  {
   "cell_type": "markdown",
   "metadata": {},
   "source": [
    "# Tutorial/Assignment 4"
   ]
  },
  {
   "cell_type": "code",
   "execution_count": null,
   "metadata": {},
   "outputs": [],
   "source": [
    "# Load the packages you will need"
   ]
  },
  {
   "cell_type": "markdown",
   "metadata": {},
   "source": [
    "## Fitting to a distribution"
   ]
  },
  {
   "cell_type": "code",
   "execution_count": null,
   "metadata": {},
   "outputs": [],
   "source": [
    "np.random.seed(112)\n",
    "\n",
    "# Create a normal distribution from scipy stats with mean 0 and standard deviation 1\n",
    "distr = sp.stats.norm(0, 1)\n",
    "\n",
    "# Sample the distribution 1000 times (rvs means random variates)\n",
    "vals = distr.rvs(1000)"
   ]
  },
  {
   "cell_type": "markdown",
   "metadata": {},
   "source": [
    "Use the NumPy histogram function to create an array of counts and bins.\n",
    "\n",
    "https://docs.scipy.org/doc/numpy/reference/generated/numpy.histogram.html\n",
    "\n",
    "Note how the length of the bins array is one more than the number of elements in the counts array. This is because NumPy returns the bin edges.\n",
    "\n",
    "For this part of the problem use 20 bins"
   ]
  },
  {
   "cell_type": "code",
   "execution_count": null,
   "metadata": {},
   "outputs": [],
   "source": []
  },
  {
   "cell_type": "code",
   "execution_count": null,
   "metadata": {},
   "outputs": [],
   "source": [
    "# In order to take the output from the NumPy histogram function and plot it as a histogram\n",
    "# we need to use the bin edges, and the difference between bin edges as the width.\n",
    "\n",
    "# If you used the variable name 'counts' and 'bins' in the previous step then the plot will run correctly.\n",
    "plt.bar(bins[:-1], counts, align='edge', width=np.diff(bins))"
   ]
  },
  {
   "cell_type": "markdown",
   "metadata": {},
   "source": [
    "Define the model function\n",
    "\n",
    "$$y(x) = \\frac{A}{\\sigma\\sqrt{2\\pi}}\\exp\\left(-\\frac{(x-\\mu)^2}{2\\sigma^2}\\right)$$"
   ]
  },
  {
   "cell_type": "code",
   "execution_count": null,
   "metadata": {},
   "outputs": [],
   "source": []
  },
  {
   "cell_type": "markdown",
   "metadata": {},
   "source": [
    "Plot the model on top of the data with some initial set of parameters.\n",
    "\n",
    "For the uncertainties take the square root of the bin height. **Be careful about bins that don't have any data in them as the uncertainty is zero. To fix this, assign a finite uncertainty using the `np.where` function.**\n",
    "\n",
    "https://docs.scipy.org/doc/numpy/reference/generated/numpy.where.html"
   ]
  },
  {
   "cell_type": "code",
   "execution_count": null,
   "metadata": {},
   "outputs": [],
   "source": []
  },
  {
   "cell_type": "markdown",
   "metadata": {},
   "source": [
    "Fit to the data with your model."
   ]
  },
  {
   "cell_type": "code",
   "execution_count": null,
   "metadata": {},
   "outputs": [],
   "source": []
  },
  {
   "cell_type": "markdown",
   "metadata": {},
   "source": [
    "Plot the fit on top of the data"
   ]
  },
  {
   "cell_type": "code",
   "execution_count": null,
   "metadata": {},
   "outputs": [],
   "source": []
  },
  {
   "cell_type": "markdown",
   "metadata": {},
   "source": [
    "Print the parameter estimates, their uncertainties, and check for correlations between the parameters."
   ]
  },
  {
   "cell_type": "code",
   "execution_count": null,
   "metadata": {},
   "outputs": [],
   "source": []
  },
  {
   "cell_type": "markdown",
   "metadata": {},
   "source": [
    "## Bin widths\n",
    "\n",
    "Re-do the above analysis, but now use a different number of bins. Does the number of bins affect your results? Try some extreme values."
   ]
  },
  {
   "cell_type": "code",
   "execution_count": null,
   "metadata": {},
   "outputs": [],
   "source": []
  },
  {
   "cell_type": "markdown",
   "metadata": {},
   "source": [
    "## Fitting to 2d data\n",
    "\n",
    "Load the 'Nelson.csv' file (from https://www.itl.nist.gov/div898/strd/nls/data/LINKS/v-nelson.shtml) and fit it with this function:\n",
    "\n",
    "$$\\log(z(x, y)) = -a_1 - a_2x\\exp(-a_3 y)$$\n",
    "\n",
    "The expected values for the parameters are:\n",
    "\n",
    "a_1 = 2.5906836021E+00 +/- 1.9149996413E-02\n",
    "\n",
    "a_2 = 5.6177717026E-09 +/- 6.1124096540E-09\n",
    "\n",
    "a_3 = -5.7701013174E-02 +/- 3.9572366543E-03"
   ]
  },
  {
   "cell_type": "markdown",
   "metadata": {},
   "source": [
    "Load the data into x, y, z components"
   ]
  },
  {
   "cell_type": "code",
   "execution_count": null,
   "metadata": {},
   "outputs": [],
   "source": []
  },
  {
   "cell_type": "markdown",
   "metadata": {},
   "source": [
    "Define the model. Note that the model function still expects a single parameter to be used for the independent variables, so you must pass it an array."
   ]
  },
  {
   "cell_type": "code",
   "execution_count": null,
   "metadata": {},
   "outputs": [],
   "source": []
  },
  {
   "cell_type": "markdown",
   "metadata": {},
   "source": [
    "Fit the data. Use as your starting parameters (a1, a2, a3) = (2.5, 5e-9, 1e-2).\n",
    "\n",
    "You will need to pass both the x and y data simultaneously. See the `xdata` part of the documentation for more details: https://docs.scipy.org/doc/scipy/reference/generated/scipy.optimize.curve_fit.html"
   ]
  },
  {
   "cell_type": "code",
   "execution_count": null,
   "metadata": {},
   "outputs": [],
   "source": []
  },
  {
   "cell_type": "markdown",
   "metadata": {},
   "source": [
    "Check that you get the correct parameter estimates:\n",
    "\n",
    "a_1 = 2.5906836021E+00 +/- 1.9149996413E-02\n",
    "\n",
    "a_2 = 5.6177717026E-09 +/- 6.1124096540E-09\n",
    "\n",
    "a_3 = -5.7701013174E-02 +/- 3.9572366543E-03"
   ]
  },
  {
   "cell_type": "code",
   "execution_count": null,
   "metadata": {},
   "outputs": [],
   "source": []
  },
  {
   "cell_type": "markdown",
   "metadata": {},
   "source": [
    "Show the correlation matrix. Are there strong correlations between some of the parameters?"
   ]
  },
  {
   "cell_type": "code",
   "execution_count": null,
   "metadata": {},
   "outputs": [],
   "source": []
  }
 ],
 "metadata": {
  "kernelspec": {
   "display_name": "Python 3",
   "language": "python",
   "name": "python3"
  },
  "language_info": {
   "codemirror_mode": {
    "name": "ipython",
    "version": 3
   },
   "file_extension": ".py",
   "mimetype": "text/x-python",
   "name": "python",
   "nbconvert_exporter": "python",
   "pygments_lexer": "ipython3",
   "version": "3.6.7"
  }
 },
 "nbformat": 4,
 "nbformat_minor": 2
}
