{
 "cells": [
  {
   "cell_type": "markdown",
   "metadata": {
    "slideshow": {
     "slide_type": "slide"
    }
   },
   "source": [
    "# Python for Labs/Lectures\n",
    "\n",
    "## Lecture 5: Teaching with Python\n",
    "\n",
    "Nicholas Lee-Hone\n",
    "\n",
    "July 2019"
   ]
  },
  {
   "cell_type": "markdown",
   "metadata": {
    "slideshow": {
     "slide_type": "notes"
    }
   },
   "source": [
    "In previous lectures we focused on learning how to program in Python, efficiently manipulate arrays, perform various tasks such as root finding, integration and curve fitting, and plot information in various ways.\n",
    "\n",
    "The final lecture focuses on two topics:\n",
    "- Printing and formatting output\n",
    "- How to use Python and Jupyter for teaching and learning"
   ]
  },
  {
   "cell_type": "markdown",
   "metadata": {
    "slideshow": {
     "slide_type": "slide"
    }
   },
   "source": [
    "## Printing\n",
    "\n",
    "Three methods:\n",
    "- Old string formatting\n",
    "- New sring formatting\n",
    "- f-strings"
   ]
  },
  {
   "cell_type": "markdown",
   "metadata": {
    "slideshow": {
     "slide_type": "subslide"
    }
   },
   "source": [
    "### Old string formatting\n",
    "\n",
    "Specify the type of data to display using a `%` symbol.\n",
    "\n",
    "Some examples:\n",
    "- %s: String format\n",
    "- %d: Decimal integer\n",
    "- %g: General format\n",
    "- %e: Exponential notation\n",
    "- %f: Fixed point notation"
   ]
  },
  {
   "cell_type": "code",
   "execution_count": null,
   "metadata": {
    "slideshow": {
     "slide_type": "subslide"
    }
   },
   "outputs": [],
   "source": [
    "import numpy as np\n",
    "print('%s: %f +/- %.3f' % ('Voltage', np.pi, 0.01))"
   ]
  },
  {
   "cell_type": "code",
   "execution_count": null,
   "metadata": {
    "slideshow": {
     "slide_type": "fragment"
    }
   },
   "outputs": [],
   "source": [
    "# Displaying a complex number\n",
    "z = 2.5 - 2.39j\n",
    "print('%f' % z)"
   ]
  },
  {
   "cell_type": "code",
   "execution_count": null,
   "metadata": {
    "slideshow": {
     "slide_type": "fragment"
    }
   },
   "outputs": [],
   "source": [
    "# Need to specify the real and imaginary parts separately\n",
    "print('%f + %fi' % (z.real, z.imag))"
   ]
  },
  {
   "cell_type": "markdown",
   "metadata": {
    "slideshow": {
     "slide_type": "notes"
    }
   },
   "source": [
    "This syntax was common amongst older programming languages and with Python's early versions. However, we now have a much better formatting syntax to work with."
   ]
  },
  {
   "cell_type": "markdown",
   "metadata": {
    "slideshow": {
     "slide_type": "subslide"
    }
   },
   "source": [
    "### New string formatting\n",
    "\n",
    "https://docs.python.org/3.6/library/string.html#format-string-syntax"
   ]
  },
  {
   "cell_type": "code",
   "execution_count": null,
   "metadata": {},
   "outputs": [],
   "source": [
    "# Compare\n",
    "print('%s: %f +/- %.3f' % ('Voltage', np.pi, 0.01))\n",
    "\n",
    "# To\n",
    "print('{}: {} +/- {}'.format('Voltage', np.pi, 0.01))\n",
    "# Note the automatic data type inference"
   ]
  },
  {
   "cell_type": "markdown",
   "metadata": {
    "slideshow": {
     "slide_type": "notes"
    }
   },
   "source": [
    "The new string formatting command tries to understand the data type and display it in the best way possible."
   ]
  },
  {
   "cell_type": "code",
   "execution_count": null,
   "metadata": {
    "slideshow": {
     "slide_type": "fragment"
    }
   },
   "outputs": [],
   "source": [
    "# Already much better than the old string formatting\n",
    "# We don't need to split it into real and imaginary parts\n",
    "print('{}'.format(z))"
   ]
  },
  {
   "cell_type": "markdown",
   "metadata": {
    "slideshow": {
     "slide_type": "notes"
    }
   },
   "source": [
    "The new string formatting has many useful features which will be shown off below. For a complete description of how this works see https://docs.python.org/3.6/library/string.html#format-string-syntax."
   ]
  },
  {
   "cell_type": "code",
   "execution_count": null,
   "metadata": {
    "slideshow": {
     "slide_type": "subslide"
    }
   },
   "outputs": [],
   "source": [
    "# Match the data to a particular position in the string\n",
    "print(\"The student called {name} got {score} on \\\n",
    "Assignment {assignment} which was out of {max_score}.\".format(name='AAA', assignment=3, max_score=12, score=9))"
   ]
  },
  {
   "cell_type": "code",
   "execution_count": null,
   "metadata": {
    "slideshow": {
     "slide_type": "fragment"
    }
   },
   "outputs": [],
   "source": [
    "# Use the same variable multiple times (the {0} means parameter in position zero of the format function)\n",
    "# Also access a property of the variable\n",
    "print('The complex number {0} is made from a real part {0.real} and an imaginary part {0.imag}'.format(2.3 + 1.9j))"
   ]
  },
  {
   "cell_type": "code",
   "execution_count": null,
   "metadata": {
    "slideshow": {
     "slide_type": "fragment"
    }
   },
   "outputs": [],
   "source": [
    "# Aligning parts of a string\n",
    "string = '{:>20}'.format('right aligned')\n",
    "\n",
    "# Note how the full length is 20 characters\n",
    "# The string is put to the right hand side of this 20 character block\n",
    "print(len(string))  \n",
    "string"
   ]
  },
  {
   "cell_type": "markdown",
   "metadata": {
    "slideshow": {
     "slide_type": "subslide"
    }
   },
   "source": [
    "### f-strings\n",
    "\n",
    "https://docs.python.org/3/reference/lexical_analysis.html#f-strings"
   ]
  },
  {
   "cell_type": "markdown",
   "metadata": {
    "slideshow": {
     "slide_type": "notes"
    }
   },
   "source": [
    "`f-string` stands for formatted literal string. These strings look like normal strings, but have the `f` character in front of the opening quote mark. When the program runs, expressions in curly braces `{}` are replaced by the value of the expression and can be formatted in place.\n",
    "\n",
    "Unfortunately the documentation for `f-strings` is somewhat lacking compared to the documentation for the `format` function. However, alsmost everything that can be done with `format` can be done with `f-strings`\n",
    "\n",
    "Below are some examples of using `f-strings`."
   ]
  },
  {
   "cell_type": "code",
   "execution_count": null,
   "metadata": {
    "slideshow": {
     "slide_type": "fragment"
    }
   },
   "outputs": [],
   "source": [
    "print(f'{np.pi}')\n",
    "\n",
    "# This is equivalent to\n",
    "print('{}'.format(np.pi))"
   ]
  },
  {
   "cell_type": "code",
   "execution_count": null,
   "metadata": {
    "slideshow": {
     "slide_type": "fragment"
    }
   },
   "outputs": [],
   "source": [
    "z = 2.5 - 1.9j\n",
    "print(f'{z}: {z.real} + {z.imag}i')\n",
    "\n",
    "# Is equivalent to\n",
    "print('{0}: {0.real} + {0.imag}i'.format(z))"
   ]
  },
  {
   "cell_type": "code",
   "execution_count": null,
   "metadata": {
    "slideshow": {
     "slide_type": "subslide"
    }
   },
   "outputs": [],
   "source": [
    "print(f'\"{\"right aligned\":>20}\"')\n",
    "\n",
    "# Is equivalent to\n",
    "print('\"{:>20}\"'.format('right aligned'))"
   ]
  },
  {
   "cell_type": "code",
   "execution_count": null,
   "metadata": {
    "slideshow": {
     "slide_type": "fragment"
    }
   },
   "outputs": [],
   "source": [
    "student = {\n",
    "    'name': 'AAA',\n",
    "    'grade': 60\n",
    "}\n",
    "\n",
    "max_grade = 100\n",
    "\n",
    "print(f'Student {student[\"name\"]} got {student[\"grade\"]} out of {max_grade}')"
   ]
  },
  {
   "cell_type": "code",
   "execution_count": null,
   "metadata": {
    "slideshow": {
     "slide_type": "subslide"
    }
   },
   "outputs": [],
   "source": [
    "# Example of formatting a number with uncertainty\n",
    "pOpt = [119.25182, -2.395124]\n",
    "err = [27.53, 0.0008512]\n",
    "\n",
    "print(f'Param 1: {pOpt[0]} +/- {err[0]}')\n",
    "print(f'Param 2: {pOpt[1]} +/- {err[1]}')"
   ]
  },
  {
   "cell_type": "code",
   "execution_count": null,
   "metadata": {
    "slideshow": {
     "slide_type": "fragment"
    }
   },
   "outputs": [],
   "source": [
    "# Now specify the actual format\n",
    "# Close - works for numbers with decimal places, but not for numbers greater than 1\n",
    "print(f'Param 1: {pOpt[0]:.0f} +/- {err[0]:.0f}')\n",
    "print(f'Param 2: {pOpt[1]:.4f} +/- {err[1]:.4f}')"
   ]
  },
  {
   "cell_type": "code",
   "execution_count": null,
   "metadata": {
    "slideshow": {
     "slide_type": "fragment"
    }
   },
   "outputs": [],
   "source": [
    "# Closer - still not perfect because of different exponents, but at least is is now correct\n",
    "print(f'Param 1: {pOpt[0]:.1e} +/- {err[0]:.0e}')\n",
    "print(f'Param 2: {pOpt[1]:.4f} +/- {err[1]:.4f}')"
   ]
  },
  {
   "cell_type": "markdown",
   "metadata": {
    "slideshow": {
     "slide_type": "slide"
    }
   },
   "source": [
    "## Using Jupyter notebooks for teaching\n",
    "\n",
    "Excellent document on using Jupyter notebooks in a teaching environment:\n",
    "\n",
    "https://jupyter4edu.github.io/jupyter-edu-book/"
   ]
  },
  {
   "cell_type": "markdown",
   "metadata": {
    "slideshow": {
     "slide_type": "notes"
    }
   },
   "source": [
    "Jupyter notebooks provide a valuable tool to create documents that can be distributed to students which contain much more context that could be provided during a lecture. Lecture notes can be interspersed with code to show how something works, and lecture slides can be built directly from the content of the notebook."
   ]
  },
  {
   "cell_type": "markdown",
   "metadata": {
    "slideshow": {
     "slide_type": "subslide"
    }
   },
   "source": [
    "## Markdown\n",
    "\n",
    "Reference for the syntax:<br>\n",
    "https://www.ibm.com/support/knowledgecenter/en/SSGNPV_1.1.3/dsx/markd-jupyter.html"
   ]
  },
  {
   "attachments": {
    "image.png": {
     "image/png": "[encoded data removed]"
    }
   },
   "cell_type": "markdown",
   "metadata": {},
   "source": [
    "Markdown is the standard formatting cell used in Jupyter notebooks.\n",
    "\n",
    "To create a markdown cell, click the dropdown menu in the toolbar and select 'Markdown':\n",
    "![image.png](attachment:image.png) \n",
    "\n",
    "You can revert back to a normal code cell using the same dropdown."
   ]
  },
  {
   "cell_type": "markdown",
   "metadata": {
    "slideshow": {
     "slide_type": "subslide"
    }
   },
   "source": [
    "# Header\n",
    "## Subheader\n",
    "### Sub-subheader\n",
    "#### Sub-sub-subheader?\n",
    "\n",
    "Bullet list:\n",
    "- item1\n",
    "- item2\n",
    "    - subitem1\n",
    "    - subitem2\n",
    "- item3\n",
    "\n",
    "Numbered list:\n",
    "1. item1\n",
    "1. item2\n",
    "    1. subitem1\n",
    "    1. subitem2\n",
    "1. item3"
   ]
  },
  {
   "cell_type": "markdown",
   "metadata": {
    "slideshow": {
     "slide_type": "notes"
    }
   },
   "source": [
    "For numbered lists, you don't need to specify the actual number to display. Just put 1. (or any other number) and it will automatically create the correct number for you."
   ]
  },
  {
   "cell_type": "markdown",
   "metadata": {
    "slideshow": {
     "slide_type": "subslide"
    }
   },
   "source": [
    "**Bold text** with normal text, and *italic text*.\n",
    "\n",
    "Inline math such as $\\LaTeX$ works as expected, and you can create displayed math equations as well: $$y(x)=\\int_a^b f(x)dx$$\n",
    "\n",
    "Multiline equations work as expected\n",
    "$$\n",
    "\\begin{align}\n",
    "x &= 3\\\\\n",
    "&= 4 - 1\n",
    "\\end{align}\n",
    "$$"
   ]
  },
  {
   "cell_type": "markdown",
   "metadata": {
    "slideshow": {
     "slide_type": "subslide"
    }
   },
   "source": [
    "The second line of the table definition `|-|-|-|` is **crucial** for the table to work. It needs to show as many cells as the header line.\n",
    "\n",
    "The minimal definition of a table is\n",
    "\n",
    "| Header 1 | Header 2 | Header 3 |\n",
    "|-|-|-|\n",
    "\n",
    "\n",
    "The cells that come after it do not need to have all the delimiters specified as long as it is unambiguous\n",
    "\n",
    "| Header 1 | Header 2 | Header 3 |\n",
    "|-|-|-|\n",
    "| 1  | 2 | 3 |\n",
    "4|5|5"
   ]
  },
  {
   "cell_type": "markdown",
   "metadata": {
    "slideshow": {
     "slide_type": "subslide"
    }
   },
   "source": [
    "Drag and drop an image from your harddrive into a cell to create an image tag:\n",
    "\n",
    "**Try this here from your file manager.**\n",
    "\n",
    "You can also copy a file from another program and paste it into the cell:\n",
    "\n",
    "**Try opening an image in Gimp, or some other image processing program, select a region, copy it, and past into the cell.**"
   ]
  },
  {
   "cell_type": "markdown",
   "metadata": {
    "slideshow": {
     "slide_type": "subslide"
    }
   },
   "source": [
    "Jupyter notebooks also accept some valid HTML code. To use this, start a **normal code cell** with `%%HTML` and then paste the HTML into the cell"
   ]
  },
  {
   "cell_type": "markdown",
   "metadata": {},
   "source": [
    "**For example: Embed a youtube Video**"
   ]
  },
  {
   "cell_type": "code",
   "execution_count": null,
   "metadata": {
    "slideshow": {
     "slide_type": "fragment"
    }
   },
   "outputs": [],
   "source": [
    "%%HTML\n",
    "<iframe width=\"600\" height=\"400\" src=\"https://www.youtube.com/embed/spUNpyF58BY\" frameborder=\"0\" allow=\"accelerometer; autoplay; encrypted-media; gyroscope; picture-in-picture\" allowfullscreen></iframe>"
   ]
  },
  {
   "cell_type": "code",
   "execution_count": null,
   "metadata": {
    "hide_input": false,
    "slideshow": {
     "slide_type": "subslide"
    }
   },
   "outputs": [],
   "source": [
    "%%HTML\n",
    "<!DOCTYPE html>\n",
    "\n",
    "<!-- From https://www.w3schools.com/js/tryit.asp?filename=tryjs_dom_animate_3 -->\n",
    "    \n",
    "<html>\n",
    "<style>\n",
    "#container {\n",
    "  width: 400px;\n",
    "  height: 400px;\n",
    "  position: relative;\n",
    "  background: yellow;\n",
    "}\n",
    "#animate {\n",
    "  width: 50px;\n",
    "  height: 50px;\n",
    "  position: absolute;\n",
    "  background-color: red;\n",
    "}\n",
    "</style>\n",
    "<body>\n",
    "\n",
    "<p><button onclick=\"myMove()\">Click Me</button></p> \n",
    "\n",
    "<div id =\"container\">\n",
    "  <div id =\"animate\"></div>\n",
    "</div>\n",
    "\n",
    "<script>\n",
    "function myMove() {\n",
    "  var elem = document.getElementById(\"animate\");   \n",
    "  var pos = 0;\n",
    "  var id = setInterval(frame, 5);\n",
    "  function frame() {\n",
    "    if (pos == 350) {\n",
    "      clearInterval(id);\n",
    "    } else {\n",
    "      pos++; \n",
    "      elem.style.top = pos + \"px\"; \n",
    "      elem.style.left = pos + \"px\"; \n",
    "    }\n",
    "  }\n",
    "}\n",
    "</script>\n",
    "\n",
    "</body>\n",
    "</html>"
   ]
  },
  {
   "cell_type": "code",
   "execution_count": null,
   "metadata": {
    "slideshow": {
     "slide_type": "subslide"
    }
   },
   "outputs": [],
   "source": [
    "%%SVG\n",
    "\n",
    "<!-- From: https://www.w3schools.com/graphics/tryit.asp?filename=trysvg_path2 -->\n",
    "<svg height=\"400\" width=\"450\">\n",
    "<path id=\"lineAB\" d=\"M 100 350 l 150 -300\" stroke=\"red\" stroke-width=\"3\" fill=\"none\" />\n",
    "  <path id=\"lineBC\" d=\"M 250 50 l 150 300\" stroke=\"red\" stroke-width=\"3\" fill=\"none\" />\n",
    "  <path d=\"M 175 200 l 150 0\" stroke=\"green\" stroke-width=\"3\" fill=\"none\" />\n",
    "  <path d=\"M 100 350 q 150 -300 300 0\" stroke=\"blue\" stroke-width=\"5\" fill=\"none\" />\n",
    "  <!-- Mark relevant points -->\n",
    "  <g stroke=\"black\" stroke-width=\"3\" fill=\"black\">\n",
    "    <circle id=\"pointA\" cx=\"100\" cy=\"350\" r=\"3\" />\n",
    "    <circle id=\"pointB\" cx=\"250\" cy=\"50\" r=\"3\" />\n",
    "    <circle id=\"pointC\" cx=\"400\" cy=\"350\" r=\"3\" />\n",
    "  </g>\n",
    "  <!-- Label the points -->\n",
    "  <g font-size=\"30\" font-family=\"sans-serif\" fill=\"black\" stroke=\"none\" text-anchor=\"middle\">\n",
    "    <text x=\"100\" y=\"350\" dx=\"-30\">A</text>\n",
    "    <text x=\"250\" y=\"50\" dy=\"-10\">B</text>\n",
    "    <text x=\"400\" y=\"350\" dx=\"30\">C</text>\n",
    "  </g>\n",
    "  Sorry, your browser does not support inline SVG.\n",
    "</svg>"
   ]
  },
  {
   "cell_type": "markdown",
   "metadata": {
    "slideshow": {
     "slide_type": "slide"
    }
   },
   "source": [
    "### Presentations with Jupyter"
   ]
  },
  {
   "attachments": {
    "image.png": {
     "image/png": "[encoded data removed]"
    }
   },
   "cell_type": "markdown",
   "metadata": {
    "slideshow": {
     "slide_type": "notes"
    }
   },
   "source": [
    "To create a presentation with Jupyter click the 'View' menu item and under the 'Cell toolbar' menu select 'Slideshow'. A dropdown menu will then appear to the right side of each cell which allows you to select the type of slide you want to create.\n",
    "\n",
    "![image.png](attachment:image.png)"
   ]
  },
  {
   "attachments": {
    "image.png": {
     "image/png": "[encoded data removed]"
    }
   },
   "cell_type": "markdown",
   "metadata": {
    "slideshow": {
     "slide_type": "notes"
    }
   },
   "source": [
    "The presentation can be run using this button in the toolbar:\n",
    "![image.png](attachment:image.png)"
   ]
  },
  {
   "cell_type": "markdown",
   "metadata": {
    "slideshow": {
     "slide_type": "slide"
    }
   },
   "source": [
    "## Downloading files to a Syzygy directory\n",
    "\n",
    "- Upload the content to GitHub or GitLab\n",
    "- Create a URL that looks like:<br>\n",
    "**https://sfu.syzygy.ca/jupyter/hub/user-redirect/git-pull?repo=<Git URL\\>**\n",
    "\n",
    "For example:\n",
    "https://sfu.syzygy.ca/jupyter/hub/user-redirect/git-pull?repo=https://github.com/nleehone/PythonLectures.git&branch=master"
   ]
  }
 ],
 "metadata": {
  "celltoolbar": "Slideshow",
  "kernelspec": {
   "display_name": "Python 3",
   "language": "python",
   "name": "python3"
  },
  "language_info": {
   "codemirror_mode": {
    "name": "ipython",
    "version": 3
   },
   "file_extension": ".py",
   "mimetype": "text/x-python",
   "name": "python",
   "nbconvert_exporter": "python",
   "pygments_lexer": "ipython3",
   "version": "3.6.7"
  }
 },
 "nbformat": 4,
 "nbformat_minor": 2
}
