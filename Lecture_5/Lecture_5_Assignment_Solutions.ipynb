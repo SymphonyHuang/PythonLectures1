{
 "cells": [
  {
   "cell_type": "markdown",
   "metadata": {},
   "source": [
    "# Tutorial/Assignment \n",
    "\n",
    "Create a function called `format_value` that takes two parameters, `val` and `err`, and returns a correctly formatted string for the uncertainty.\n",
    "\n",
    "**Hint 1**: You will need to use the `round` function with a negative argument for the `ndigits` parameter. Test the `round` function with both positive and negative `ndigits` to make sure you understand how it works.\n",
    "\n",
    "https://docs.python.org/3.6/library/functions.html#round\n",
    "\n",
    "**Hint 2**: Extract the leading power of 10 of the error to set the `ndigits` parameter. You will also need to use the `np.floor` function and turn the value into an integer.\n",
    "\n",
    "https://docs.scipy.org/doc/numpy/reference/generated/numpy.floor.html"
   ]
  },
  {
   "cell_type": "code",
   "execution_count": 10,
   "metadata": {},
   "outputs": [],
   "source": [
    "import numpy as np\n",
    "\n",
    "def format_value(val, err):\n",
    "    err_rounded = round(err, -int(np.floor(np.log10(err))))\n",
    "    val_rounded = round(val, -int(np.floor(np.log10(err))))\n",
    "    \n",
    "    if err_rounded >= 1.0:\n",
    "        # If the error is greater than or equal to 1, then the numbers should be represented as integers\n",
    "        return f'{int(val_rounded)} +/- {int(err_rounded)}'\n",
    "    else:\n",
    "        # Force this to return a float, otherwise the last test case \n",
    "        # (-1 +/- 0.6), will not transform correctly into (-1.0 +/- 0.6)\n",
    "        # it will instead remain as (-1 +/- 0.6)\n",
    "        return f'{float(val_rounded)} +/- {float(err_rounded)}'"
   ]
  },
  {
   "cell_type": "code",
   "execution_count": 12,
   "metadata": {},
   "outputs": [
    {
     "name": "stdout",
     "output_type": "stream",
     "text": [
      "                        Values:                    Transformed\n",
      "--------------------------------------------------------------\n",
      "           119.25182 +/- 27.53:                     120 +/- 30\n",
      "       -2.395124 +/- 0.0008512:             -2.3951 +/- 0.0009\n",
      "               119.25 +/- 0.94:                  119.2 +/- 0.9\n",
      "               119.25 +/- 0.96:                      119 +/- 1\n",
      "            123456789 +/- 4567:             123457000 +/- 5000\n",
      "                    -1 +/- 0.6:                   -1.0 +/- 0.6\n"
     ]
    }
   ],
   "source": [
    "# Test cases for your code\n",
    "\n",
    "test_values = [119.25182, -2.395124, 119.25, 119.25, 123456789, -1]\n",
    "test_errors = [27.53, 0.0008512, 0.94, 0.96, 4567, 0.6]\n",
    "\n",
    "# Print the header line\n",
    "# Instead of manually formatting, use strings with formatters\n",
    "print(f'{\"Values\":>30}: {\"\":>10}{\"Transformed\":>20}')\n",
    "print('-'*62)\n",
    "      \n",
    "for v, e in zip(test_values, test_errors):\n",
    "    # Note the use of a f-string inside an f-string\n",
    "    print(f'{f\"{v} +/- {e}\":>30}: {\"\":>10}{format_value(v, e):>20}')"
   ]
  },
  {
   "cell_type": "markdown",
   "metadata": {},
   "source": [
    "This is the output you should expect from the code above:"
   ]
  },
  {
   "cell_type": "markdown",
   "metadata": {},
   "source": [
    "                        Values:                    Transformed\n",
    "--------------------------------------------------------------\n",
    "           119.25182 +/- 27.53:                     120 +/- 30\n",
    "       -2.395124 +/- 0.0008512:             -2.3951 +/- 0.0009\n",
    "               119.25 +/- 0.94:                  119.2 +/- 0.9\n",
    "               119.25 +/- 0.96:                      119 +/- 1\n",
    "            123456789 +/- 4567:             123457000 +/- 5000\n",
    "                    -1 +/- 0.6:                   -1.0 +/- 0.6\n"
   ]
  },
  {
   "cell_type": "code",
   "execution_count": null,
   "metadata": {},
   "outputs": [],
   "source": []
  }
 ],
 "metadata": {
  "kernelspec": {
   "display_name": "Python 3",
   "language": "python",
   "name": "python3"
  },
  "language_info": {
   "codemirror_mode": {
    "name": "ipython",
    "version": 3
   },
   "file_extension": ".py",
   "mimetype": "text/x-python",
   "name": "python",
   "nbconvert_exporter": "python",
   "pygments_lexer": "ipython3",
   "version": "3.6.7"
  }
 },
 "nbformat": 4,
 "nbformat_minor": 2
}
