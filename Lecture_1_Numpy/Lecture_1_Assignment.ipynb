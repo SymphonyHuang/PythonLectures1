{
 "cells": [
  {
   "cell_type": "markdown",
   "metadata": {},
   "source": [
    "# Tutorial/Assignment 1:"
   ]
  },
  {
   "cell_type": "code",
   "execution_count": null,
   "metadata": {},
   "outputs": [],
   "source": [
    "# Helper function for indexing. \n",
    "# Run this cell, but don't worry about understanding how it works for the purpose of this tutorial.\n",
    "\n",
    "import matplotlib.pyplot as plt\n",
    "import matplotlib.patches as mpatch\n",
    "\n",
    "def plot_fancy_index(arr, indexed, fontsize=20):\n",
    "    # arr is the original array\n",
    "    # indexed is the indexed array that will be highlighted\n",
    "    try:\n",
    "        iter(indexed)\n",
    "    except TypeError:\n",
    "        indexed = [indexed]\n",
    "\n",
    "    fig = plt.figure(figsize=(8,8))\n",
    "    ax = plt.gca()    \n",
    "    shape = arr.shape\n",
    "    for v in np.nditer(arr):\n",
    "        # Draw the rectangles\n",
    "        y, x = -(v//shape[0]), v%shape[0]\n",
    "        if v in indexed:\n",
    "            # If it is in indexed highlight it in color C1\n",
    "            ax.add_artist(mpatch.Rectangle((x, y), 1, -1, fc='C1', ec='k'))\n",
    "        else:\n",
    "            ax.add_artist(mpatch.Rectangle((x, y), 1, -1, ec='k'))\n",
    "        ax.annotate(f'{v}\\n{(-y, x)}', (x + 0.5, y - 0.5), color='w', weight='bold', \n",
    "                    fontsize=fontsize, ha='center', va='center')\n",
    "\n",
    "    ax.set_xlim((0, shape[0]))\n",
    "    ax.set_xticks(np.arange(shape[0]))\n",
    "    ax.set_xticklabels(range(shape[0]), fontsize=16)\n",
    "    ax.set_xlabel(r'Axis 1 $\\rightarrow$', fontsize=20)\n",
    "    \n",
    "    ax.set_ylim((-shape[1], 0))\n",
    "    ax.set_yticks(-np.arange(shape[1]))\n",
    "    ax.set_yticklabels(range(shape[1]), fontsize=16)\n",
    "    ax.set_ylabel(r'$\\leftarrow$ Axis 0', fontsize=20)\n",
    "    \n",
    "    # Remove tick marks from left and bottom axes\n",
    "    ax.tick_params(axis='both', which='both',length=0)\n",
    "    \n",
    "    # Top axis\n",
    "    ax2 = plt.twiny()\n",
    "    ax2.set_xticks(range(1, shape[0]+1))\n",
    "    ax2.set_xticklabels(-np.array(list(reversed(range(1, shape[0]+1)))), fontsize=16)\n",
    "    ax2.tick_params(axis='both', which='both',length=0)\n",
    "    \n",
    "    # Right axis\n",
    "    ax3 = plt.twinx()\n",
    "    ax3.set_yticks(range(shape[1]))\n",
    "    ax3.set_yticklabels(-np.array(list(reversed(range(1, shape[1]+1)))), fontsize=16)\n",
    "    ax3.set_ylim(0, shape[1])\n",
    "    ax3.tick_params(axis='both', which='both',length=0)\n",
    "\n",
    "    plt.show()"
   ]
  },
  {
   "cell_type": "markdown",
   "metadata": {},
   "source": [
    "## Load the numpy library\n",
    "\n",
    "Remember to alias it with a recognizable name."
   ]
  },
  {
   "cell_type": "code",
   "execution_count": null,
   "metadata": {},
   "outputs": [],
   "source": []
  },
  {
   "cell_type": "markdown",
   "metadata": {},
   "source": [
    "## Load data using genfromtxt\n",
    "\n",
    "Using the numpy documentation https://docs.scipy.org/doc/numpy/reference/generated/numpy.genfromtxt.html\n",
    "find a way to split the data into x and y components without using an intermediate step."
   ]
  },
  {
   "cell_type": "code",
   "execution_count": null,
   "metadata": {},
   "outputs": [],
   "source": [
    "# This is the way it was shown in the lecture. \n",
    "data = np.genfromtxt('AtmWtAgt.csv', delimiter=',', skip_header=1)\n",
    "x, y = data[:,0], data[:,1]\n",
    "x, y"
   ]
  },
  {
   "cell_type": "code",
   "execution_count": null,
   "metadata": {},
   "outputs": [],
   "source": [
    "# Better way to do it"
   ]
  },
  {
   "cell_type": "markdown",
   "metadata": {},
   "source": [
    "## Statistics\n",
    "\n",
    "Print the mean and sample standard deviation of both arrays. Be careful to read the documentation for `std` to understand which standard deviation it is calculating, and whether or not you have to include an extra keyword parameter.\n",
    "\n",
    "- https://docs.scipy.org/doc/numpy/reference/generated/numpy.std.html\n",
    "- https://docs.scipy.org/doc/numpy/reference/generated/numpy.mean.html#numpy.mean"
   ]
  },
  {
   "cell_type": "code",
   "execution_count": null,
   "metadata": {},
   "outputs": [],
   "source": []
  },
  {
   "cell_type": "markdown",
   "metadata": {},
   "source": [
    "Write your own mean function using the `sum` function and the `shape` of the array."
   ]
  },
  {
   "cell_type": "code",
   "execution_count": null,
   "metadata": {},
   "outputs": [],
   "source": []
  },
  {
   "cell_type": "markdown",
   "metadata": {},
   "source": [
    "Check that it matches the output of the NumPy `mean` function."
   ]
  },
  {
   "cell_type": "code",
   "execution_count": null,
   "metadata": {},
   "outputs": [],
   "source": []
  },
  {
   "cell_type": "markdown",
   "metadata": {},
   "source": [
    "## Merging arrays\n",
    "\n",
    "Combine the x and y arrays from the previous steps into one data array using the `hstack` function:\n",
    "https://docs.scipy.org/doc/numpy/reference/generated/numpy.hstack.html#numpy.hstack"
   ]
  },
  {
   "cell_type": "code",
   "execution_count": null,
   "metadata": {},
   "outputs": [],
   "source": []
  },
  {
   "cell_type": "markdown",
   "metadata": {},
   "source": [
    "Now try it with the `vstack` function:\n",
    "https://docs.scipy.org/doc/numpy/reference/generated/numpy.vstack.html#numpy.vstack"
   ]
  },
  {
   "cell_type": "code",
   "execution_count": null,
   "metadata": {},
   "outputs": [],
   "source": []
  },
  {
   "cell_type": "markdown",
   "metadata": {},
   "source": [
    "With the newly merged array, turn it back into a dataset which has x, y as columns, instead of rows."
   ]
  },
  {
   "cell_type": "code",
   "execution_count": null,
   "metadata": {},
   "outputs": [],
   "source": []
  },
  {
   "cell_type": "markdown",
   "metadata": {},
   "source": [
    "Print the number of dimensions, shape, number of elements, and data type for this new array."
   ]
  },
  {
   "cell_type": "code",
   "execution_count": null,
   "metadata": {},
   "outputs": [],
   "source": []
  },
  {
   "cell_type": "markdown",
   "metadata": {},
   "source": [
    "## Broadcasting\n",
    "\n",
    "With the newly merged data multiply the x column by 10 and the y column by 20 using broadcasting, and store that in a new variable."
   ]
  },
  {
   "cell_type": "code",
   "execution_count": null,
   "metadata": {},
   "outputs": [],
   "source": []
  },
  {
   "cell_type": "markdown",
   "metadata": {},
   "source": [
    "Using the new array, take every third element of the second column (y) and set it to zero."
   ]
  },
  {
   "cell_type": "code",
   "execution_count": null,
   "metadata": {},
   "outputs": [],
   "source": []
  },
  {
   "cell_type": "markdown",
   "metadata": {},
   "source": [
    "Print the new array to confirm that the operation worked correctly."
   ]
  },
  {
   "cell_type": "code",
   "execution_count": null,
   "metadata": {},
   "outputs": [],
   "source": []
  },
  {
   "cell_type": "markdown",
   "metadata": {},
   "source": [
    "## Finding specific elements\n",
    "\n",
    "Use `argmax` to find the index of the smallest element in each row (either in x or y): https://docs.scipy.org/doc/numpy/reference/generated/numpy.argmax.html#numpy.argmax"
   ]
  },
  {
   "cell_type": "code",
   "execution_count": null,
   "metadata": {},
   "outputs": [],
   "source": []
  },
  {
   "cell_type": "markdown",
   "metadata": {},
   "source": [
    "Use the array returned by argmin to print the elements from the new array. You will need to use a for loop."
   ]
  },
  {
   "cell_type": "code",
   "execution_count": null,
   "metadata": {},
   "outputs": [],
   "source": []
  },
  {
   "cell_type": "markdown",
   "metadata": {},
   "source": [
    "## Modifying values based on condition\n",
    "\n",
    "Before continuing, save a copy of the data in a new variable: https://docs.scipy.org/doc/numpy/reference/generated/numpy.copy.html"
   ]
  },
  {
   "cell_type": "code",
   "execution_count": null,
   "metadata": {},
   "outputs": [],
   "source": []
  },
  {
   "cell_type": "markdown",
   "metadata": {},
   "source": [
    "For the data in the first column (d[:,0]) use the `where` function to set all values that are below the mean of that column to the negative of their value.\n",
    "\n",
    "https://docs.scipy.org/doc/numpy/reference/generated/numpy.where.html"
   ]
  },
  {
   "cell_type": "code",
   "execution_count": null,
   "metadata": {},
   "outputs": [],
   "source": []
  },
  {
   "cell_type": "markdown",
   "metadata": {},
   "source": [
    "Print the result and convince yourself it is correct by comparing to the original array and the value of the mean."
   ]
  },
  {
   "cell_type": "code",
   "execution_count": null,
   "metadata": {},
   "outputs": [],
   "source": []
  },
  {
   "cell_type": "markdown",
   "metadata": {},
   "source": [
    "## Copy vs view (optional)\n",
    "\n",
    "There is a subtlety in the way that NumPy does the indexing that can on rare occasions lead to seemingly odd behaviour. Read the documentation here to find out more: https://scipy-cookbook.readthedocs.io/items/ViewsVsCopies.html"
   ]
  },
  {
   "cell_type": "markdown",
   "metadata": {},
   "source": [
    "## Save the data\n",
    "\n",
    "Save the new array (with the zeros) to a new file. Make sure to use a comma for the delimiter."
   ]
  },
  {
   "cell_type": "code",
   "execution_count": null,
   "metadata": {},
   "outputs": [],
   "source": []
  },
  {
   "cell_type": "markdown",
   "metadata": {},
   "source": [
    "Load the file into a new array and print it to convince yourself that saving the file worked."
   ]
  },
  {
   "cell_type": "code",
   "execution_count": null,
   "metadata": {},
   "outputs": [],
   "source": []
  },
  {
   "cell_type": "markdown",
   "metadata": {},
   "source": [
    "## Linear algebra\n",
    "\n",
    "The linear algebra functions for numpy are in the `linalg` module. To access it use\n",
    "\n",
    "```\n",
    "np.linalg.*\n",
    "```\n",
    "\n",
    "where the `*` represents the name of the function you want to use.\n",
    "\n",
    "A full list of the functions can be found at https://docs.scipy.org/doc/numpy/reference/routines.linalg.html."
   ]
  },
  {
   "cell_type": "code",
   "execution_count": null,
   "metadata": {},
   "outputs": [],
   "source": [
    "# Starting with the following matrix:\n",
    "M = np.array([[2, 1, -1], [-3, -1, 2], [-2, 1, 2]])\n",
    "M"
   ]
  },
  {
   "cell_type": "markdown",
   "metadata": {},
   "source": [
    "Take the inverse of the matrix and store it in a variable"
   ]
  },
  {
   "cell_type": "code",
   "execution_count": null,
   "metadata": {},
   "outputs": [],
   "source": []
  },
  {
   "cell_type": "markdown",
   "metadata": {},
   "source": [
    "Multiply the matrix by its inverse"
   ]
  },
  {
   "cell_type": "code",
   "execution_count": null,
   "metadata": {},
   "outputs": [],
   "source": []
  },
  {
   "cell_type": "markdown",
   "metadata": {},
   "source": [
    "Check that this is close to the identity matrix by using the identity creation function in numpy: \n",
    "https://docs.scipy.org/doc/numpy/reference/generated/numpy.eye.html\n",
    "\n",
    "Also use the `allclose` function (remember that we should not compare floating point values directly):\n",
    "https://docs.scipy.org/doc/numpy/reference/generated/numpy.allclose.html"
   ]
  },
  {
   "cell_type": "code",
   "execution_count": null,
   "metadata": {},
   "outputs": [],
   "source": []
  },
  {
   "cell_type": "markdown",
   "metadata": {},
   "source": [
    "Get the eigenvalues and eigenvectors of the matrix, `M`, and store them in separate variables. Print the eigenvalues and eigenvectors."
   ]
  },
  {
   "cell_type": "code",
   "execution_count": null,
   "metadata": {},
   "outputs": [],
   "source": []
  },
  {
   "cell_type": "markdown",
   "metadata": {},
   "source": [
    "## More indexing\n",
    "\n",
    "First we create an array and reshape it (store the array in a variable called `array`). Note the use of the `-1` which allows NumPy to calculate the missing dimension for you. "
   ]
  },
  {
   "cell_type": "code",
   "execution_count": null,
   "metadata": {},
   "outputs": [],
   "source": [
    "array = np.arange(64).reshape((-1,16))\n",
    "array"
   ]
  },
  {
   "cell_type": "markdown",
   "metadata": {},
   "source": [
    "Change the reshape command above to create an array with 16 rows."
   ]
  },
  {
   "cell_type": "code",
   "execution_count": null,
   "metadata": {},
   "outputs": [],
   "source": []
  },
  {
   "cell_type": "markdown",
   "metadata": {},
   "source": [
    "Change the reshape command to create a square matrix."
   ]
  },
  {
   "cell_type": "code",
   "execution_count": null,
   "metadata": {},
   "outputs": [],
   "source": []
  },
  {
   "cell_type": "markdown",
   "metadata": {},
   "source": [
    "Extract the diagonal from the array using the indexing methods described in the lecture. It might be helpful to use the `arange` and `array.shape` to help build the indexes automatically. The `plot_fancy_index` function has been set up to help visualize your efforts."
   ]
  },
  {
   "cell_type": "code",
   "execution_count": null,
   "metadata": {},
   "outputs": [],
   "source": [
    "indexed = array  # Change this line to see the effects\n",
    "plot_fancy_index(array, indexed, fontsize=16)"
   ]
  },
  {
   "cell_type": "markdown",
   "metadata": {},
   "source": [
    "Read about array masking and use this in combination with the NumPy `eye` function to get the diagonal elements from the array. You will have to specify the data type of the mask to be `bool`."
   ]
  },
  {
   "cell_type": "code",
   "execution_count": null,
   "metadata": {},
   "outputs": [],
   "source": [
    "indexed = array  # Change this line to see the effects\n",
    "plot_fancy_index(array, indexed, fontsize=16)"
   ]
  },
  {
   "cell_type": "markdown",
   "metadata": {},
   "source": [
    "**Hard Challenge**\n",
    "\n",
    "Use array masking to extract only the elements where the value starts with a 3, or starts with a 4 and ends with a number larger than 6.\n",
    "\n",
    "Hints:\n",
    "\n",
    "- Transforming the array of integers into an array of strings would help get values starting with a particular number.\n",
    "\n",
    "- You will need to look up `defchararray` functions such as: https://docs.scipy.org/doc/numpy-1.16.0/reference/generated/numpy.core.defchararray.startswith.html#numpy.core.defchararray.startswith\n",
    "\n",
    "- You will also need to look up the bitwise boolean operators: https://wiki.python.org/moin/BitwiseOperators"
   ]
  },
  {
   "cell_type": "code",
   "execution_count": null,
   "metadata": {},
   "outputs": [],
   "source": [
    "indexed = array  # Put your masks here\n",
    "plot_fancy_index(array, indexed, fontsize=16)"
   ]
  },
  {
   "cell_type": "markdown",
   "metadata": {},
   "source": [
    "## More array creation\n",
    "\n",
    "Creating equally spaced arrays is often used when plotting. Look at the `linspace` command and create 21 equally spaced points between 0 and 10.\n",
    "\n",
    "https://docs.scipy.org/doc/numpy/reference/generated/numpy.linspace.html"
   ]
  },
  {
   "cell_type": "code",
   "execution_count": null,
   "metadata": {
    "scrolled": true
   },
   "outputs": [],
   "source": []
  },
  {
   "cell_type": "markdown",
   "metadata": {},
   "source": [
    "Use the `logspace` function to create 90 equally spaced points (in log space) between 1e-6 and 1e3 excluding the endpoint, and reshape the array so it has each decade in a row.\n",
    "\n",
    "https://docs.scipy.org/doc/numpy/reference/generated/numpy.logspace.html#numpy.logspace"
   ]
  },
  {
   "cell_type": "code",
   "execution_count": null,
   "metadata": {
    "scrolled": false
   },
   "outputs": [],
   "source": []
  },
  {
   "cell_type": "markdown",
   "metadata": {},
   "source": [
    "## Extra reading (optional)\n",
    "\n",
    "Numpy has some extra modules that can help with doing discrete fourier transforms and generating pseudo random numbers. The documentation is linked here in case you wish to explore these further.\n",
    "\n",
    "- https://docs.scipy.org/doc/numpy/reference/routines.fft.html\n",
    "- https://docs.scipy.org/doc/numpy/reference/routines.random.html"
   ]
  }
 ],
 "metadata": {
  "kernelspec": {
   "display_name": "Python 3",
   "language": "python",
   "name": "python3"
  },
  "language_info": {
   "codemirror_mode": {
    "name": "ipython",
    "version": 3
   },
   "file_extension": ".py",
   "mimetype": "text/x-python",
   "name": "python",
   "nbconvert_exporter": "python",
   "pygments_lexer": "ipython3",
   "version": "3.6.7"
  }
 },
 "nbformat": 4,
 "nbformat_minor": 2
}
