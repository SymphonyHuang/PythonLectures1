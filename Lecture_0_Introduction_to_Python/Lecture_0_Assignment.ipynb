{
 "cells": [
  {
   "cell_type": "markdown",
   "metadata": {},
   "source": [
    "# Lecture 0: Assignment"
   ]
  },
  {
   "cell_type": "markdown",
   "metadata": {},
   "source": [
    "## 0.1 Using the 'and' operator\n",
    "Write a program that takes the numerical grade of a student and outputs their letter grade based on the following scheme:\n",
    "\n",
    "* F: Below 60\n",
    "* A+ : Between 95 and 100 [95, 100]\n",
    "* A : Between 90 and 95 [90, 95)\n",
    "* A- : Between 85 and 90 [85, 90)\n",
    "* B+ : Between 80 and 85\n",
    "* B : Between 75 and 80\n",
    "* B- : Between 70 and 75\n",
    "* C : Between 65 and 70\n",
    "* D : Between 60 and 65\n",
    "\n",
    "For this program, use **only** the 'and' operator.\n",
    "\n",
    "Make sure to put the value back into the student dictionary under a new key `letter_grade`."
   ]
  },
  {
   "cell_type": "code",
   "execution_count": null,
   "metadata": {},
   "outputs": [],
   "source": [
    "# You are provided with the following student information\n",
    "student = {'id': 123456, \n",
    "           'Name': 'Nobody', \n",
    "           'grade': 67.5}"
   ]
  },
  {
   "cell_type": "code",
   "execution_count": null,
   "metadata": {},
   "outputs": [],
   "source": [
    "# Put your code here"
   ]
  },
  {
   "cell_type": "code",
   "execution_count": null,
   "metadata": {},
   "outputs": [],
   "source": [
    "# Test that the code worked:\n",
    "if student['letter_grade'] == 'C':\n",
    "    print('Success')\n",
    "else:\n",
    "    print(\"The code didn't work\")"
   ]
  },
  {
   "cell_type": "markdown",
   "metadata": {},
   "source": [
    "## 0.2 No 'and/or' operator\n",
    "Write the same program, but this time using only a single condition in your 'if' statements.\n",
    "\n",
    "I.e. \n",
    "\n",
    "**if \"condition\":**\n",
    "\n",
    "is allowed, but \n",
    "\n",
    "**if \"condition1\" or/and \"condition2\":**\n",
    "\n",
    "is not allowed."
   ]
  },
  {
   "cell_type": "code",
   "execution_count": null,
   "metadata": {},
   "outputs": [],
   "source": [
    "# You are provided with the following student information\n",
    "student = {'id': 123456, \n",
    "           'Name': 'Nobody', \n",
    "           'grade': 87.5}\n",
    "\n",
    "# Put your code here"
   ]
  },
  {
   "cell_type": "code",
   "execution_count": null,
   "metadata": {},
   "outputs": [],
   "source": [
    "# Test that the code worked:\n",
    "if student['letter_grade'] == 'A-':\n",
    "    print('Success')\n",
    "else:\n",
    "    print(\"The code didn't work\")"
   ]
  },
  {
   "cell_type": "markdown",
   "metadata": {},
   "source": [
    "## 0.3 Calculating the mean and standard deviation\n",
    "\n",
    "Create a function that calculates the mean and sample standard deviation of a list and returns the two of them at the same time.\n",
    "\n",
    "Hint: You will have to use for loops.\n",
    "\n",
    "The function signature should be `mean_stdev(values)`."
   ]
  },
  {
   "cell_type": "code",
   "execution_count": null,
   "metadata": {},
   "outputs": [],
   "source": [
    "# Put your code here"
   ]
  },
  {
   "cell_type": "code",
   "execution_count": null,
   "metadata": {},
   "outputs": [],
   "source": [
    "# Test\n",
    "import numpy as np\n",
    "\n",
    "vals = [10, 20, 30, 40, 50, 60, -0.5, 3.1415, 14.6]\n",
    "\n",
    "m, s = mean_stdev(vals)\n",
    "print(\"Mean is correct:\", np.isclose(m, np.mean(vals)))\n",
    "print(\"Stdev is correct:\", np.isclose(s, np.std(vals, ddof=1)))"
   ]
  },
  {
   "cell_type": "markdown",
   "metadata": {},
   "source": [
    "## 0.5 Slicing a list\n",
    "\n",
    "Create a function that acts in a similar way to list slicing.\n",
    "\n",
    "The function should have signature `slice_list(values, start, end, step)`.\n",
    "\n",
    "Restrictions:\n",
    "- Use a while loop in the function\n",
    "- The index in the while loop MUST start at 0 or -1\n",
    "- Use both a `continue` and a `break` in the while loop"
   ]
  },
  {
   "cell_type": "code",
   "execution_count": null,
   "metadata": {},
   "outputs": [],
   "source": [
    "# Put your code here"
   ]
  },
  {
   "cell_type": "code",
   "execution_count": null,
   "metadata": {},
   "outputs": [],
   "source": [
    "# Test\n",
    "a = list(range(20))\n",
    "\n",
    "print('If all of these come out True then your code is probably correct')\n",
    "print(a[::2] == slice_list(a, 0, len(a), 2))\n",
    "print(a[2::2] == slice_list(a, 2, len(a), 2))\n",
    "print(a[3:-4:5] == slice_list(a, 3, len(a)-4, 5))"
   ]
  },
  {
   "cell_type": "markdown",
   "metadata": {},
   "source": [
    "## 0.6 Slicing a list with keyword parameters\n",
    "\n",
    "Look up in the documentation how to use default values and keyword parameters. https://docs.python.org/3.6/tutorial/controlflow.html#more-on-defining-functions\n",
    "\n",
    "Re-write the code for `slice_list` to allow the following tests to work. Note the use of keyword arguments and also that the function does not always use the same number of parameters (i.e. some are defaulting to predetermined values).\n",
    "\n",
    "Hint: look up the `None` keyword to help deal with the end parameter."
   ]
  },
  {
   "cell_type": "code",
   "execution_count": null,
   "metadata": {},
   "outputs": [],
   "source": [
    "# Put your code here"
   ]
  },
  {
   "cell_type": "code",
   "execution_count": null,
   "metadata": {},
   "outputs": [],
   "source": [
    "# Tests\n",
    "a = list(range(20))\n",
    "\n",
    "print('If all of these come out True then your code is probably correct')\n",
    "print(a[:5] == slice_list(a, end=5))\n",
    "print(a[5:] == slice_list(a, 5))\n",
    "print(a[::2] == slice_list(a, 0, step=2))\n",
    "print(a[2::2] == slice_list(a, 2, len(a), 2))\n",
    "print(a[3:-4:5] == slice_list(a, step=5, end=len(a)-4, start=3))"
   ]
  },
  {
   "cell_type": "markdown",
   "metadata": {},
   "source": [
    "## 0.7 Gaussian quadrature\n",
    "\n",
    "Create a function that integrates a function of one variable between two finite bounds. The integration method you will use is Gaussian quadrature, described by:\n",
    "\n",
    "$$\\int_a^b f(x)dx \\approx \\frac{b-a}{2}\\sum_{i=1}^N w_i f\\left(\\frac{b-a}{2}x_i + \\frac{a+b}{2}\\right),$$\n",
    "\n",
    "with $N=5$,\n",
    "\n",
    "$$x = (0,\\,0.538469,\\,-0.538469,\\,0.90618,\\,-0.90618),$$\n",
    "\n",
    "$$w = (0.568889,\\,0.478629,\\,0.478629,\\,0.236927,\\,0.236927).$$\n",
    "\n",
    "The function signature should be ```gauss_quad(f, a, b)```\n",
    "\n",
    "After you complete the above task, look up the documentation for the `zip` function and re-write the function so it uses `zip`. "
   ]
  },
  {
   "cell_type": "code",
   "execution_count": null,
   "metadata": {},
   "outputs": [],
   "source": [
    "# Start with the two tuples:\n",
    "x = (0, 0.538469, -0.538469, 0.90618, -0.90618)\n",
    "w = (0.568889, 0.478629, 0.478629, 0.236927, 0.236927)"
   ]
  },
  {
   "cell_type": "code",
   "execution_count": null,
   "metadata": {},
   "outputs": [],
   "source": [
    "# Put your code here"
   ]
  },
  {
   "cell_type": "markdown",
   "metadata": {},
   "source": [
    "Test the code with the following cases:"
   ]
  },
  {
   "cell_type": "code",
   "execution_count": null,
   "metadata": {},
   "outputs": [],
   "source": [
    "def square(x):\n",
    "    return x**2\n",
    "\n",
    "min_bound = 1\n",
    "max_bound = 3\n",
    "print('Exact:', max_bound**3/3 - min_bound**3/3)\n",
    "print('Quad: ', gauss_quad(square, min_bound, max_bound))"
   ]
  },
  {
   "cell_type": "code",
   "execution_count": null,
   "metadata": {},
   "outputs": [],
   "source": [
    "def cube(x):\n",
    "    return x**3\n",
    "\n",
    "min_bound = -5\n",
    "max_bound = 3\n",
    "print('Exact:', max_bound**4/4 - min_bound**4/4)\n",
    "print('Quad: ', gauss_quad(cube, min_bound, max_bound))"
   ]
  },
  {
   "cell_type": "code",
   "execution_count": null,
   "metadata": {},
   "outputs": [],
   "source": []
  }
 ],
 "metadata": {
  "kernelspec": {
   "display_name": "Python 3",
   "language": "python",
   "name": "python3"
  },
  "language_info": {
   "codemirror_mode": {
    "name": "ipython",
    "version": 3
   },
   "file_extension": ".py",
   "mimetype": "text/x-python",
   "name": "python",
   "nbconvert_exporter": "python",
   "pygments_lexer": "ipython3",
   "version": "3.6.7"
  }
 },
 "nbformat": 4,
 "nbformat_minor": 1
}
