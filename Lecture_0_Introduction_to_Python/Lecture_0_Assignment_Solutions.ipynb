{
 "cells": [
  {
   "cell_type": "markdown",
   "metadata": {},
   "source": [
    "# Lecture 0: Assignment"
   ]
  },
  {
   "cell_type": "markdown",
   "metadata": {},
   "source": [
    "## 0.1 Using the 'and' operator\n",
    "Write a program that takes the numerical grade of a student and outputs their letter grade based on the following scheme:\n",
    "\n",
    "* F: Below 60\n",
    "* A+ : Between 95 and 100 [95, 100]\n",
    "* A : Between 90 and 95 [90, 95)\n",
    "* A- : Between 85 and 90 [85, 90)\n",
    "* B+ : Between 80 and 85\n",
    "* B : Between 75 and 80\n",
    "* B- : Between 70 and 75\n",
    "* C : Between 65 and 70\n",
    "* D : Between 60 and 65\n",
    "\n",
    "For this program, use **only** the 'and' operator.\n",
    "\n",
    "\n",
    "Make sure to put the value back into the student dictionary under a new key `letter_grade`."
   ]
  },
  {
   "cell_type": "code",
   "execution_count": 1,
   "metadata": {},
   "outputs": [],
   "source": [
    "# You are provided with the following student information\n",
    "student = {'id': 123456, \n",
    "           'Name': 'Nobody', \n",
    "           'grade': 67.5}"
   ]
  },
  {
   "cell_type": "code",
   "execution_count": 2,
   "metadata": {},
   "outputs": [],
   "source": [
    "# Put your code here"
   ]
  },
  {
   "cell_type": "code",
   "execution_count": 3,
   "metadata": {},
   "outputs": [],
   "source": [
    "# Solution that follows the order given in the problem statement\n",
    "if student['grade'] < 60:\n",
    "    student['letter_grade'] = 'F'\n",
    "elif student['grade'] >= 95 and student['grade'] <= 100:\n",
    "    student['letter_grade'] = 'A+'\n",
    "elif student['grade'] >= 90 and student['grade'] < 95:\n",
    "    student['letter_grade'] = 'A'\n",
    "elif student['grade'] >= 85 and student['grade'] < 90:\n",
    "    student['letter_grade'] = 'A-'\n",
    "elif student['grade'] >= 80 and student['grade'] < 85:\n",
    "    student['letter_grade'] = 'B+'\n",
    "elif student['grade'] >= 75 and student['grade'] < 80:\n",
    "    student['letter_grade'] = 'B'\n",
    "elif student['grade'] >= 70 and student['grade'] < 75:\n",
    "    student['letter_grade'] = 'B-'\n",
    "elif student['grade'] >= 65 and student['grade'] < 70:\n",
    "    student['letter_grade'] = 'C'\n",
    "elif student['grade'] >= 60 and student['grade'] < 65:\n",
    "    student['letter_grade'] = 'D'"
   ]
  },
  {
   "cell_type": "code",
   "execution_count": 4,
   "metadata": {},
   "outputs": [],
   "source": [
    "# Solution that is easier to follow\n",
    "if student['grade'] >= 95 and student['grade'] <= 100:\n",
    "    student['letter_grade'] = 'A+'\n",
    "elif student['grade'] >= 90 and student['grade'] < 95:\n",
    "    student['letter_grade'] = 'A'\n",
    "elif student['grade'] >= 85 and student['grade'] < 90:\n",
    "    student['letter_grade'] = 'A-'\n",
    "elif student['grade'] >= 80 and student['grade'] < 85:\n",
    "    student['letter_grade'] = 'B+'\n",
    "elif student['grade'] >= 75 and student['grade'] < 80:\n",
    "    student['letter_grade'] = 'B'\n",
    "elif student['grade'] >= 70 and student['grade'] < 75:\n",
    "    student['letter_grade'] = 'B-'\n",
    "elif student['grade'] >= 65 and student['grade'] < 70:\n",
    "    student['letter_grade'] = 'C'\n",
    "elif student['grade'] >= 60 and student['grade'] < 65:\n",
    "    student['letter_grade'] = 'D'\n",
    "else:\n",
    "    student['letter_grade'] = 'F'"
   ]
  },
  {
   "cell_type": "code",
   "execution_count": 5,
   "metadata": {},
   "outputs": [
    {
     "name": "stdout",
     "output_type": "stream",
     "text": [
      "Success\n"
     ]
    }
   ],
   "source": [
    "# Test that the code worked:\n",
    "if student['letter_grade'] == 'C':\n",
    "    print('Success')\n",
    "else:\n",
    "    print(\"The code didn't work\")"
   ]
  },
  {
   "cell_type": "markdown",
   "metadata": {},
   "source": [
    "## 0.2 No 'and/or' operator\n",
    "Write the same program, but this time using only a single condition in your 'if' statements.\n",
    "\n",
    "I.e. \n",
    "\n",
    "**if \"condition\":**\n",
    "\n",
    "is allowed, but \n",
    "\n",
    "**if \"condition1\" or/and \"condition2\":**\n",
    "\n",
    "is not allowed."
   ]
  },
  {
   "cell_type": "code",
   "execution_count": 6,
   "metadata": {},
   "outputs": [],
   "source": [
    "# You are provided with the following student information\n",
    "student = {'id': 123456, \n",
    "           'Name': 'Nobody', \n",
    "           'grade': 87.5}\n",
    "\n",
    "# Put your code here"
   ]
  },
  {
   "cell_type": "code",
   "execution_count": 7,
   "metadata": {},
   "outputs": [],
   "source": [
    "# Solution: Use the most restrictive condition first and don't check unnecessary values\n",
    "if student['grade'] >= 95:\n",
    "    student['letter_grade'] = 'A+'\n",
    "elif student['grade'] >= 90:\n",
    "    student['letter_grade'] = 'A'\n",
    "elif student['grade'] >= 85:\n",
    "    student['letter_grade'] = 'A-'\n",
    "elif student['grade'] >= 80:\n",
    "    student['letter_grade'] = 'B+'\n",
    "elif student['grade'] >= 75:\n",
    "    student['letter_grade'] = 'B'\n",
    "elif student['grade'] >= 70:\n",
    "    student['letter_grade'] = 'B-'\n",
    "elif student['grade'] >= 65:\n",
    "    student['letter_grade'] = 'C'\n",
    "elif student['grade'] >= 60:\n",
    "    student['letter_grade'] = 'D'\n",
    "else:\n",
    "    student['letter_grade'] = 'F'"
   ]
  },
  {
   "cell_type": "code",
   "execution_count": 8,
   "metadata": {},
   "outputs": [
    {
     "name": "stdout",
     "output_type": "stream",
     "text": [
      "Success\n"
     ]
    }
   ],
   "source": [
    "# Test that the code worked:\n",
    "if student['letter_grade'] == 'A-':\n",
    "    print('Success')\n",
    "else:\n",
    "    print(\"The code didn't work\")"
   ]
  },
  {
   "cell_type": "markdown",
   "metadata": {},
   "source": [
    "## 0.3 Calculating the mean and standard deviation\n",
    "\n",
    "Create a function that calculates the mean and sample standard deviation of a list and returns the two of them at the same time.\n",
    "\n",
    "Hint: You will have to use for loops.\n",
    "\n",
    "The function signature should be `mean_stdev(values)`."
   ]
  },
  {
   "cell_type": "code",
   "execution_count": 9,
   "metadata": {},
   "outputs": [],
   "source": [
    "# Put your code here\n",
    "def mean_stdev(values):\n",
    "    total = 0\n",
    "    N = len(values)\n",
    "    for x in values:\n",
    "        total += x\n",
    "    mean = total/N\n",
    "    \n",
    "    total = 0\n",
    "    for x in values:\n",
    "        total += (x - mean)**2\n",
    "    stdev = (total/(N-1))**0.5\n",
    "    \n",
    "    return mean, stdev"
   ]
  },
  {
   "cell_type": "code",
   "execution_count": 10,
   "metadata": {},
   "outputs": [
    {
     "name": "stdout",
     "output_type": "stream",
     "text": [
      "Mean is correct: True\n",
      "Stdev is correct: True\n"
     ]
    }
   ],
   "source": [
    "# Test\n",
    "import numpy as np\n",
    "\n",
    "vals = [10, 20, 30, 40, 50, 60, -0.5, 3.1415, 14.6]\n",
    "\n",
    "m, s = mean_stdev(vals)\n",
    "print(\"Mean is correct:\", np.isclose(m, np.mean(vals)))\n",
    "print(\"Stdev is correct:\", np.isclose(s, np.std(vals, ddof=1)))"
   ]
  },
  {
   "cell_type": "markdown",
   "metadata": {},
   "source": [
    "## 0.5 Slicing a list\n",
    "\n",
    "Create a function that acts in a similar way to list slicing.\n",
    "\n",
    "The function should have signature `slice_list(values, start, end, step)`.\n",
    "\n",
    "Restrictions:\n",
    "- Use a while loop in the function\n",
    "- The index in the while loop MUST start at 0 or -1\n",
    "- Use both a `continue` and a `break` in the while loop"
   ]
  },
  {
   "cell_type": "code",
   "execution_count": 11,
   "metadata": {},
   "outputs": [],
   "source": [
    "# Put your code here\n",
    "def slice_list(values, start, end, step):\n",
    "    i = -1\n",
    "    output = []\n",
    "    while True:\n",
    "        i += 1\n",
    "        if i < start:\n",
    "            continue\n",
    "        if i == end:\n",
    "            break\n",
    "        if (i - start) % step == 0:\n",
    "            output.append(values[i])\n",
    "    return output"
   ]
  },
  {
   "cell_type": "code",
   "execution_count": 12,
   "metadata": {},
   "outputs": [
    {
     "name": "stdout",
     "output_type": "stream",
     "text": [
      "If all of these come out True then your code is probably correct\n",
      "True\n",
      "True\n",
      "True\n"
     ]
    }
   ],
   "source": [
    "# Test\n",
    "a = list(range(20))\n",
    "\n",
    "print('If all of these come out True then your code is probably correct')\n",
    "print(a[::2] == slice_list(a, 0, len(a), 2))\n",
    "print(a[2::2] == slice_list(a, 2, len(a), 2))\n",
    "print(a[3:-4:5] == slice_list(a, 3, len(a)-4, 5))"
   ]
  },
  {
   "cell_type": "markdown",
   "metadata": {},
   "source": [
    "## 0.6 Slicing a list with keyword parameters\n",
    "\n",
    "Look up in the documentation how to use default values and keyword parameters. https://docs.python.org/3.6/tutorial/controlflow.html#more-on-defining-functions\n",
    "\n",
    "Re-write the code for `slice_list` to allow the following tests to work. Note the use of keyword arguments and also that the function does not always use the same number of parameters (i.e. some are defaulting to predetermined values).\n",
    "\n",
    "Hint: look up the `None` keyword to help deal with the end parameter."
   ]
  },
  {
   "cell_type": "code",
   "execution_count": 13,
   "metadata": {},
   "outputs": [],
   "source": [
    "# Put your code here\n",
    "def slice_list(values, start=0, end=None, step=1):\n",
    "    if end is None:\n",
    "        end = len(values)\n",
    "        \n",
    "    i = -1\n",
    "    output = []\n",
    "        \n",
    "    while True:\n",
    "        i += 1\n",
    "        if i < start:\n",
    "            continue\n",
    "        if i == end:\n",
    "            break\n",
    "        if (i - start) % step == 0:\n",
    "            output.append(values[i])\n",
    "    return output"
   ]
  },
  {
   "cell_type": "code",
   "execution_count": 14,
   "metadata": {},
   "outputs": [
    {
     "name": "stdout",
     "output_type": "stream",
     "text": [
      "If all of these come out True then your code is probably correct\n",
      "True\n",
      "True\n",
      "True\n",
      "True\n",
      "True\n"
     ]
    }
   ],
   "source": [
    "# Test\n",
    "a = list(range(20))\n",
    "\n",
    "print('If all of these come out True then your code is probably correct')\n",
    "print(a[:5] == slice_list(a, end=5))\n",
    "print(a[5:] == slice_list(a, 5))\n",
    "print(a[::2] == slice_list(a, 0, step=2))\n",
    "print(a[2::2] == slice_list(a, 2, len(a), 2))\n",
    "print(a[3:-4:5] == slice_list(a, step=5, end=len(a)-4, start=3))"
   ]
  },
  {
   "cell_type": "markdown",
   "metadata": {},
   "source": [
    "## 0.7 Gaussian quadrature\n",
    "\n",
    "Create a function that integrates a function of one variable between two finite bounds. The integration method you will use is Gaussian quadrature, described by:\n",
    "\n",
    "$$\\int_a^b f(x)dx \\approx \\frac{b-a}{2}\\sum_{i=1}^N w_i f\\left(\\frac{b-a}{2}x_i + \\frac{a+b}{2}\\right),$$\n",
    "\n",
    "with $N=5$,\n",
    "\n",
    "$$x = (0,\\,0.538469,\\,-0.538469,\\,0.90618,\\,-0.90618),$$\n",
    "\n",
    "$$w = (0.568889,\\,0.478629,\\,0.478629,\\,0.236927,\\,0.236927).$$\n",
    "\n",
    "The function signature should be ```gauss_quad(f, a, b)```"
   ]
  },
  {
   "cell_type": "code",
   "execution_count": 15,
   "metadata": {},
   "outputs": [],
   "source": [
    "# Start with the two tuples:\n",
    "x = (0, 0.538469, -0.538469, 0.90618, -0.90618)\n",
    "w = (0.568889, 0.478629, 0.478629, 0.236927, 0.236927)"
   ]
  },
  {
   "cell_type": "code",
   "execution_count": 16,
   "metadata": {},
   "outputs": [],
   "source": [
    "# Put your code here"
   ]
  },
  {
   "cell_type": "code",
   "execution_count": 17,
   "metadata": {},
   "outputs": [],
   "source": [
    "# Solution\n",
    "def gauss_quad(f, a, b):\n",
    "    # Takes a function f, and integrates it between bounds a and b\n",
    "    x = (0, 0.538469, -0.538469, 0.90618, -0.90618)\n",
    "    w = (0.568889, 0.478629, 0.478629, 0.236927, 0.236927)\n",
    "    result = 0\n",
    "    for i in range(len(x)):\n",
    "        result = result + w[i]*f((b - a)/2*x[i] + (a + b)/2)\n",
    "    return (b - a)/2*result"
   ]
  },
  {
   "cell_type": "code",
   "execution_count": 18,
   "metadata": {},
   "outputs": [],
   "source": [
    "# Better solution that uses zip and no indexing\n",
    "def gauss_quad(f, a, b):\n",
    "    # Takes a function f, and integrates it between bounds a and b\n",
    "    xs = (0, 0.538469, -0.538469, 0.90618, -0.90618)\n",
    "    ws = (0.568889, 0.478629, 0.478629, 0.236927, 0.236927)\n",
    "    result = 0\n",
    "    for x, w in zip(xs, ws):\n",
    "        result = result + w*f((b - a)/2*x + (a + b)/2)\n",
    "    return (b - a)/2*result"
   ]
  },
  {
   "cell_type": "markdown",
   "metadata": {},
   "source": [
    "Test the code with the following cases:"
   ]
  },
  {
   "cell_type": "code",
   "execution_count": 19,
   "metadata": {},
   "outputs": [
    {
     "name": "stdout",
     "output_type": "stream",
     "text": [
      "Exact: 8.666666666666666\n",
      "Quad:  8.666670859135088\n"
     ]
    }
   ],
   "source": [
    "def square(x):\n",
    "    return x**2\n",
    "\n",
    "min_bound = 1\n",
    "max_bound = 3\n",
    "print('Exact:', max_bound**3/3 - min_bound**3/3)\n",
    "print('Quad: ', gauss_quad(square, min_bound, max_bound))"
   ]
  },
  {
   "cell_type": "code",
   "execution_count": 20,
   "metadata": {},
   "outputs": [
    {
     "name": "stdout",
     "output_type": "stream",
     "text": [
      "Exact: -136.0\n",
      "Quad:  -136.000040953937\n"
     ]
    }
   ],
   "source": [
    "def cube(x):\n",
    "    return x**3\n",
    "\n",
    "min_bound = -5\n",
    "max_bound = 3\n",
    "print('Exact:', max_bound**4/4 - min_bound**4/4)\n",
    "print('Quad: ', gauss_quad(cube, min_bound, max_bound))"
   ]
  },
  {
   "cell_type": "code",
   "execution_count": null,
   "metadata": {},
   "outputs": [],
   "source": []
  }
 ],
 "metadata": {
  "kernelspec": {
   "display_name": "Python 3",
   "language": "python",
   "name": "python3"
  },
  "language_info": {
   "codemirror_mode": {
    "name": "ipython",
    "version": 3
   },
   "file_extension": ".py",
   "mimetype": "text/x-python",
   "name": "python",
   "nbconvert_exporter": "python",
   "pygments_lexer": "ipython3",
   "version": "3.6.7"
  }
 },
 "nbformat": 4,
 "nbformat_minor": 1
}
